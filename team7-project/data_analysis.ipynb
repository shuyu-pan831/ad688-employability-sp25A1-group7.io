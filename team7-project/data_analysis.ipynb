{
  "cells": [
    {
      "cell_type": "raw",
      "metadata": {},
      "source": [
        "---\n",
        "title: \"Data Analysis\"\n",
        "subtitle: \"Comprehensive Data Cleaning & Exploratory Analysis of Job Market Trends\"\n",
        "author:\n",
        "  - name: Guowei Yan\n",
        "  - name: Jiaxin Wang\n",
        "  - name: Shuyu Pan\n",
        "  - name: Yixuan Chen\n",
        "bibliography: /home/ubuntu/ad688-employability-sp25A1-group7.io/references.bib\n",
        "csl: /home/ubuntu/ad688-employability-sp25A1-group7.io/csl/econometrica.csl\n",
        "format: \n",
        "  html:\n",
        "    toc: true\n",
        "    number-sections: true\n",
        "    df-print: paged\n",
        "---"
      ],
      "id": "785d17b0"
    },
    {
      "cell_type": "code",
      "metadata": {},
      "source": [
        "import pandas as pd\n",
        "import missingno as msno\n",
        "import matplotlib.pyplot as plt"
      ],
      "id": "2e44be00",
      "execution_count": null,
      "outputs": []
    },
    {
      "cell_type": "code",
      "metadata": {},
      "source": [
        "lightcast_data = pd.read_csv(\"/home/ubuntu/lightcast_job_postings.csv\")\n",
        "columns_to_drop = [\n",
        "    \"ID\", \"URL\", \"ACTIVE_URLS\", \"DUPLICATES\", \"LAST_UPDATED_TIMESTAMP\",\n",
        "    \"NAICS2\", \"NAICS3\", \"NAICS4\", \"NAICS5\", \"NAICS6\",\n",
        "    \"SOC_2\", \"SOC_3\", \"SOC_5\"\n",
        "]\n",
        "lightcast_data.drop(columns=columns_to_drop, inplace=True)"
      ],
      "id": "b2d39b2b",
      "execution_count": null,
      "outputs": []
    },
    {
      "cell_type": "markdown",
      "metadata": {},
      "source": [
        "# Which columns are irrelevant or redundant?\n",
        "\n",
        "The removed columns include unique identifiers (such as ID), timestamps (LAST_UPDATED_TIMESTAMP), links (URL), duplicate markers (DUPLICATES), and overlydetailed industry and occupation classification codes (various levels of NAICS and SOC). These columns may have no direct impact on the analysis or be redundant, so they were removed to simplify data processing.\n",
        "\n",
        "# Why are we removing multiple versions of NAICS/SOC codes?\n",
        "The main reason for removing multiple versions of NAICS/SOC codes is to avoid data redundancy and confusion, ensuring data consistency and comparability. Different versions of NAICS may lead to inconsistencies in industry classification standards, which can affect the accuracy of data analysis.\n",
        "\n",
        "# How will this improve analysis?\n",
        "Removing multiple versions of NAIC/SOC codes can improve data consistency and comparability, preventing analysis inaccuracies caused by inconsistent industry classification standards. This helps reduce data redundancy, simplify data cleaning and processing, and minimize classification errors due to version differences,making the data more standardized and enhancing the quality and reliability of data analysis.\n",
        "\n",
        "## **Handle Missing Values**\n"
      ],
      "id": "de6dbebb"
    },
    {
      "cell_type": "code",
      "metadata": {},
      "source": [
        "# Visualize missing data\n",
        "msno.heatmap(lightcast_data)\n",
        "plt.title(\"Missing Values Heatmap\")\n",
        "plt.show()"
      ],
      "id": "d80f19f0",
      "execution_count": null,
      "outputs": []
    },
    {
      "cell_type": "markdown",
      "metadata": {},
      "source": [
        "# Drop columns with >50% missing values"
      ],
      "id": "3d696b67"
    },
    {
      "cell_type": "code",
      "metadata": {},
      "source": [
        "lightcast_data.dropna(thresh=len(lightcast_data) * 0.5, axis=1, inplace=True)"
      ],
      "id": "99f17be6",
      "execution_count": null,
      "outputs": []
    },
    {
      "cell_type": "markdown",
      "metadata": {},
      "source": [
        "# Fill missing values"
      ],
      "id": "e0a92163"
    },
    {
      "cell_type": "code",
      "metadata": {},
      "source": [
        "lightcast_data[\"Salary\"].fillna(lightcast_data[\"Salary\"].median(), inplace=True)\n",
        "lightcast_data[\"Industry\"].fillna(\"Unknown\", inplace=True)"
      ],
      "id": "949dd37a",
      "execution_count": null,
      "outputs": []
    },
    {
      "cell_type": "markdown",
      "metadata": {},
      "source": [
        "** #Remove Duplicates **\n",
        "\n",
        "df = df.drop_duplicates(subset=[\"TITLE\", \"COMPANY\", \"LOCATION\", \"POSTED\"], keep=\"first\")"
      ],
      "id": "c48044f4"
    }
  ],
  "metadata": {
    "kernelspec": {
      "name": "python3",
      "language": "python",
      "display_name": "Python 3 (ipykernel)"
    }
  },
  "nbformat": 4,
  "nbformat_minor": 5
}